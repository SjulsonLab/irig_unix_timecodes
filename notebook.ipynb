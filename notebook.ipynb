{
 "cells": [
  {
   "cell_type": "code",
   "execution_count": null,
   "id": "1a8ed885",
   "metadata": {},
   "outputs": [
    {
     "name": "stdout",
     "output_type": "stream",
     "text": [
      "['data/irig_data_20250807_121837_1.npz', 'data/irig_data_20250807_121842_0.npz']\n",
      "(np.float64(32.0), array([32, 32, 31, ..., 27, 28, 32], shape=(9603,)))\n",
      "(np.float64(32.0), array([31, 32, 32, ..., 32, 32, 32], shape=(9607,)))\n"
     ]
    }
   ],
   "source": [
    "from typing import List, Tuple\n",
    "import numpy as np\n",
    "import glob\n",
    "import os\n",
    "import csv\n",
    "import irig_h_gpio as irig\n",
    "import threading\n",
    "import matplotlib as plt\n",
    "\n",
    "irig_files = glob.glob(\"data/irig_data_*.npz\")\n",
    "recent_file = max(irig_files, key=os.path.getmtime)\n",
    "input_files = []\n",
    "for irig_file in irig_files:\n",
    "    if abs(os.path.getmtime(recent_file) - os.path.getmtime(irig_file)) < 10:\n",
    "        input_files.append(irig_file)\n",
    "# pps_filename = max(glob.glob(\"data/pps_data_*.npz\"), key=os.path.getmtime)\n",
    "print(input_files)\n",
    "\n",
    "def to_pulse_lengths(rising_edges: np.ndarray, falling_edges: np.ndarray) -> List[Tuple[int, int]]:\n",
    "    return np.column_stack((falling_edges - rising_edges, rising_edges)).tolist()\n",
    "\n",
    "def find_sample_rate(irig_filename:str):\n",
    "    irig_starts = np.load(irig_filename)['starts']\n",
    "\n",
    "    diff = np.diff(irig_starts)\n",
    "    \n",
    "    return round(np.median(diff), 0), diff \n",
    "\n",
    "def error_analysis(irig_filename:str, pps_filename:str):\n",
    "    sample_rate = find_sample_rate(irig_filename)\n",
    "    print(f'Sample rate: {sample_rate}')\n",
    "\n",
    "    jumps = 0\n",
    "\n",
    "    irig_starts = np.load(irig_filename)['starts']\n",
    "    pps_starts = np.load(pps_filename)['ends']\n",
    "\n",
    "    min_len = min(len(irig_starts), len(pps_starts))\n",
    "    irig_starts = irig_starts[:min_len].tolist()\n",
    "    pps_starts = pps_starts[:min_len].tolist()\n",
    "\n",
    "    result = []\n",
    "\n",
    "    for irig_start, pps_start in zip(irig_starts, pps_starts):\n",
    "        error = irig_start - pps_start\n",
    "        while error < -sample_rate * (0.95 + jumps):\n",
    "            jumps +=1\n",
    "            result.append('JUMP')\n",
    "        result.append(error + (sample_rate * jumps))\n",
    "\n",
    "    cumulative = 0\n",
    "    no_outliers = [r for r in result if type(r) != str and r < 15]\n",
    "    for d in no_outliers:\n",
    "        cumulative += d\n",
    "    cumulative /= len(no_outliers)\n",
    "    print(f'Average index delay without outliers: {cumulative}\\nSeconds: {cumulative/sample_rate}')\n",
    "    cumulative = 0\n",
    "    with_outliers = [r for r in result if type(r) != str]\n",
    "    for d in with_outliers:\n",
    "        cumulative += d\n",
    "    cumulative /= len(with_outliers)\n",
    "    print(f'Average index delay with outliers: {cumulative}\\nSeconds: {cumulative/sample_rate}')\n",
    "\n",
    "    output_filename = f'error_indexes_{irig_filename[15:-4]}.csv'\n",
    "\n",
    "    with open(output_filename, 'w', newline='') as file:\n",
    "        csv_writer = csv.writer(file)\n",
    "        csv_writer.writerow(result)\n",
    "\n",
    "def decode_analysis(irig_filename:str):\n",
    "\n",
    "    output_filename = f'decoded_timecodes_{irig_filename[15:-4]}.csv'\n",
    "\n",
    "    print(irig_filename)\n",
    "\n",
    "    irig_file = np.load(irig_filename)\n",
    "    for item in irig_file['ends']:\n",
    "        print(item)\n",
    "        \n",
    "    with open(output_filename, 'w', newline='') as file:\n",
    "        pulse_lengths = to_pulse_lengths(irig_file['starts'], irig_file['ends'])\n",
    "        irig_bits = irig.to_irig_bits(pulse_lengths)\n",
    "        decoded = irig.decode_irig_bits(irig_bits)\n",
    "\n",
    "        csv_writer = csv.writer(file)\n",
    "        csv_writer.writerows(decoded)\n",
    "\n",
    "# error_thread = threading.Thread(target=error_analysis)\n",
    "# decode_thread = threading.Thread(target=decode_analysis)\n",
    "# error_thread.start()\n",
    "# decode_thread.start()\n",
    "\n",
    "for filename in input_files:\n",
    "    # print(find_sample_rate(filename))\n",
    "    decode_analysis(filename)"
   ]
  },
  {
   "cell_type": "code",
   "execution_count": 12,
   "id": "76b1b45c",
   "metadata": {},
   "outputs": [],
   "source": [
    "import matplotlib.pyplot as plt"
   ]
  },
  {
   "cell_type": "code",
   "execution_count": null,
   "id": "b9447ead",
   "metadata": {},
   "outputs": [
    {
     "data": {
      "text/plain": [
       "[<matplotlib.lines.Line2D at 0x11fc0fe00>]"
      ]
     },
     "execution_count": 14,
     "metadata": {},
     "output_type": "execute_result"
    },
    {
     "data": {
      "image/png": "[encoded data removed]",
      "text/plain": [
       "<Figure size 640x480 with 1 Axes>"
      ]
     },
     "metadata": {},
     "output_type": "display_data"
    }
   ],
   "source": [
    "plt.plot(find_sample_rate(recent_file)[1])\n",
    "\n",
    "irig_starts = np.load(recent_file)['starts']\n"
   ]
  },
  {
   "cell_type": "code",
   "execution_count": null,
   "id": "bbc9d070",
   "metadata": {},
   "outputs": [],
   "source": [
    "irig_starts = np.load(recent_file)['starts']"
   ]
  }
 ],
 "metadata": {
  "kernelspec": {
   "display_name": "Python 3",
   "language": "python",
   "name": "python3"
  },
  "language_info": {
   "codemirror_mode": {
    "name": "ipython",
    "version": 3
   },
   "file_extension": ".py",
   "mimetype": "text/x-python",
   "name": "python",
   "nbconvert_exporter": "python",
   "pygments_lexer": "ipython3",
   "version": "3.12.8"
  }
 },
 "nbformat": 4,
 "nbformat_minor": 5
}
